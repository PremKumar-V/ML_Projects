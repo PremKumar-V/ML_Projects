{
 "cells": [
  {
   "cell_type": "code",
   "execution_count": 1,
   "id": "67c87eb6",
   "metadata": {
    "execution": {
     "iopub.execute_input": "2023-04-29T00:48:11.791714Z",
     "iopub.status.busy": "2023-04-29T00:48:11.790690Z",
     "iopub.status.idle": "2023-04-29T00:48:53.142480Z",
     "shell.execute_reply": "2023-04-29T00:48:53.141348Z"
    },
    "papermill": {
     "duration": 41.367336,
     "end_time": "2023-04-29T00:48:53.150202",
     "exception": false,
     "start_time": "2023-04-29T00:48:11.782866",
     "status": "completed"
    },
    "tags": []
   },
   "outputs": [
    {
     "name": "stdout",
     "output_type": "stream",
     "text": [
      "[nltk_data] Error loading punkt: <urlopen error [Errno -3] Temporary\n",
      "[nltk_data]     failure in name resolution>\n",
      "[nltk_data] Error loading stopwords: <urlopen error [Errno -3]\n",
      "[nltk_data]     Temporary failure in name resolution>\n"
     ]
    }
   ],
   "source": [
    "import os\n",
    "import numpy as np\n",
    "import pandas as pd\n",
    "\n",
    "import nltk\n",
    "from nltk.corpus import stopwords\n",
    "from nltk.stem.porter import PorterStemmer\n",
    "from nltk.tokenize import word_tokenize as tokenizer\n",
    "\n",
    "nltk.download('punkt')\n",
    "nltk.download('stopwords')\n",
    "\n",
    "englishStopWords = stopwords.words('english')\n",
    "stemmer = PorterStemmer()\n",
    "\n",
    "from sklearn.model_selection import train_test_split\n",
    "from sklearn.base import BaseEstimator, ClassifierMixin"
   ]
  },
  {
   "cell_type": "code",
   "execution_count": 2,
   "id": "c9c37e4d",
   "metadata": {
    "execution": {
     "iopub.execute_input": "2023-04-29T00:48:53.163474Z",
     "iopub.status.busy": "2023-04-29T00:48:53.162547Z",
     "iopub.status.idle": "2023-04-29T00:48:53.167809Z",
     "shell.execute_reply": "2023-04-29T00:48:53.166680Z"
    },
    "papermill": {
     "duration": 0.014142,
     "end_time": "2023-04-29T00:48:53.170052",
     "exception": false,
     "start_time": "2023-04-29T00:48:53.155910",
     "status": "completed"
    },
    "tags": []
   },
   "outputs": [],
   "source": [
    "mainDirectory = '/kaggle/input/quora-insincere-questions-classification/'\n",
    "\n",
    "trainFile = mainDirectory + 'train.csv'\n",
    "testFile = mainDirectory + 'test.csv'\n",
    "submissionFile = mainDirectory + 'sample_submission.csv'"
   ]
  },
  {
   "cell_type": "code",
   "execution_count": 3,
   "id": "dd247e20",
   "metadata": {
    "execution": {
     "iopub.execute_input": "2023-04-29T00:48:53.182692Z",
     "iopub.status.busy": "2023-04-29T00:48:53.182360Z",
     "iopub.status.idle": "2023-04-29T00:48:53.583619Z",
     "shell.execute_reply": "2023-04-29T00:48:53.582656Z"
    },
    "papermill": {
     "duration": 0.410444,
     "end_time": "2023-04-29T00:48:53.585948",
     "exception": false,
     "start_time": "2023-04-29T00:48:53.175504",
     "status": "completed"
    },
    "tags": []
   },
   "outputs": [
    {
     "data": {
      "text/html": [
       "<div>\n",
       "<style scoped>\n",
       "    .dataframe tbody tr th:only-of-type {\n",
       "        vertical-align: middle;\n",
       "    }\n",
       "\n",
       "    .dataframe tbody tr th {\n",
       "        vertical-align: top;\n",
       "    }\n",
       "\n",
       "    .dataframe thead th {\n",
       "        text-align: right;\n",
       "    }\n",
       "</style>\n",
       "<table border=\"1\" class=\"dataframe\">\n",
       "  <thead>\n",
       "    <tr style=\"text-align: right;\">\n",
       "      <th></th>\n",
       "      <th>qid</th>\n",
       "      <th>question_text</th>\n",
       "      <th>target</th>\n",
       "    </tr>\n",
       "  </thead>\n",
       "  <tbody>\n",
       "    <tr>\n",
       "      <th>0</th>\n",
       "      <td>00002165364db923c7e6</td>\n",
       "      <td>How did Quebec nationalists see their province...</td>\n",
       "      <td>0</td>\n",
       "    </tr>\n",
       "    <tr>\n",
       "      <th>1</th>\n",
       "      <td>000032939017120e6e44</td>\n",
       "      <td>Do you have an adopted dog, how would you enco...</td>\n",
       "      <td>0</td>\n",
       "    </tr>\n",
       "    <tr>\n",
       "      <th>2</th>\n",
       "      <td>0000412ca6e4628ce2cf</td>\n",
       "      <td>Why does velocity affect time? Does velocity a...</td>\n",
       "      <td>0</td>\n",
       "    </tr>\n",
       "    <tr>\n",
       "      <th>3</th>\n",
       "      <td>000042bf85aa498cd78e</td>\n",
       "      <td>How did Otto von Guericke used the Magdeburg h...</td>\n",
       "      <td>0</td>\n",
       "    </tr>\n",
       "    <tr>\n",
       "      <th>4</th>\n",
       "      <td>0000455dfa3e01eae3af</td>\n",
       "      <td>Can I convert montra helicon D to a mountain b...</td>\n",
       "      <td>0</td>\n",
       "    </tr>\n",
       "    <tr>\n",
       "      <th>...</th>\n",
       "      <td>...</td>\n",
       "      <td>...</td>\n",
       "      <td>...</td>\n",
       "    </tr>\n",
       "    <tr>\n",
       "      <th>99995</th>\n",
       "      <td>13956982bc38015ca63f</td>\n",
       "      <td>What is it like to switch from Adobe Premiere ...</td>\n",
       "      <td>0</td>\n",
       "    </tr>\n",
       "    <tr>\n",
       "      <th>99996</th>\n",
       "      <td>1395736e4b14323fc16a</td>\n",
       "      <td>What will be the effect of long term capital g...</td>\n",
       "      <td>0</td>\n",
       "    </tr>\n",
       "    <tr>\n",
       "      <th>99997</th>\n",
       "      <td>139577538cc474df1aa0</td>\n",
       "      <td>Which is greater, the need to eat or have sex?...</td>\n",
       "      <td>0</td>\n",
       "    </tr>\n",
       "    <tr>\n",
       "      <th>99998</th>\n",
       "      <td>13958561bd4190b383b9</td>\n",
       "      <td>Is there any way mechanical engineers can use ...</td>\n",
       "      <td>0</td>\n",
       "    </tr>\n",
       "    <tr>\n",
       "      <th>99999</th>\n",
       "      <td>1395c31be999c5c11d8b</td>\n",
       "      <td>Can you tell me some serums for oily skin avai...</td>\n",
       "      <td>0</td>\n",
       "    </tr>\n",
       "  </tbody>\n",
       "</table>\n",
       "<p>100000 rows × 3 columns</p>\n",
       "</div>"
      ],
      "text/plain": [
       "                        qid  \\\n",
       "0      00002165364db923c7e6   \n",
       "1      000032939017120e6e44   \n",
       "2      0000412ca6e4628ce2cf   \n",
       "3      000042bf85aa498cd78e   \n",
       "4      0000455dfa3e01eae3af   \n",
       "...                     ...   \n",
       "99995  13956982bc38015ca63f   \n",
       "99996  1395736e4b14323fc16a   \n",
       "99997  139577538cc474df1aa0   \n",
       "99998  13958561bd4190b383b9   \n",
       "99999  1395c31be999c5c11d8b   \n",
       "\n",
       "                                           question_text  target  \n",
       "0      How did Quebec nationalists see their province...       0  \n",
       "1      Do you have an adopted dog, how would you enco...       0  \n",
       "2      Why does velocity affect time? Does velocity a...       0  \n",
       "3      How did Otto von Guericke used the Magdeburg h...       0  \n",
       "4      Can I convert montra helicon D to a mountain b...       0  \n",
       "...                                                  ...     ...  \n",
       "99995  What is it like to switch from Adobe Premiere ...       0  \n",
       "99996  What will be the effect of long term capital g...       0  \n",
       "99997  Which is greater, the need to eat or have sex?...       0  \n",
       "99998  Is there any way mechanical engineers can use ...       0  \n",
       "99999  Can you tell me some serums for oily skin avai...       0  \n",
       "\n",
       "[100000 rows x 3 columns]"
      ]
     },
     "execution_count": 3,
     "metadata": {},
     "output_type": "execute_result"
    }
   ],
   "source": [
    "trainDf = pd.read_csv(trainFile, nrows = 100000)\n",
    "trainDf"
   ]
  },
  {
   "cell_type": "code",
   "execution_count": 4,
   "id": "bff685c9",
   "metadata": {
    "execution": {
     "iopub.execute_input": "2023-04-29T00:48:53.599847Z",
     "iopub.status.busy": "2023-04-29T00:48:53.598930Z",
     "iopub.status.idle": "2023-04-29T00:48:55.084325Z",
     "shell.execute_reply": "2023-04-29T00:48:55.083289Z"
    },
    "papermill": {
     "duration": 1.495072,
     "end_time": "2023-04-29T00:48:55.087010",
     "exception": false,
     "start_time": "2023-04-29T00:48:53.591938",
     "status": "completed"
    },
    "tags": []
   },
   "outputs": [],
   "source": [
    "testDf = pd.read_csv(testFile)\n",
    "submissionDf = pd.read_csv(submissionFile)"
   ]
  },
  {
   "cell_type": "code",
   "execution_count": 5,
   "id": "f0fd3032",
   "metadata": {
    "execution": {
     "iopub.execute_input": "2023-04-29T00:48:55.100758Z",
     "iopub.status.busy": "2023-04-29T00:48:55.099873Z",
     "iopub.status.idle": "2023-04-29T00:48:55.114836Z",
     "shell.execute_reply": "2023-04-29T00:48:55.113733Z"
    },
    "papermill": {
     "duration": 0.024069,
     "end_time": "2023-04-29T00:48:55.117059",
     "exception": false,
     "start_time": "2023-04-29T00:48:55.092990",
     "status": "completed"
    },
    "tags": []
   },
   "outputs": [
    {
     "data": {
      "text/plain": [
       "0    0.93853\n",
       "1    0.06147\n",
       "Name: target, dtype: float64"
      ]
     },
     "execution_count": 5,
     "metadata": {},
     "output_type": "execute_result"
    }
   ],
   "source": [
    "trainDf.target.value_counts(normalize = True)"
   ]
  },
  {
   "cell_type": "code",
   "execution_count": 6,
   "id": "6990a767",
   "metadata": {
    "execution": {
     "iopub.execute_input": "2023-04-29T00:48:55.130263Z",
     "iopub.status.busy": "2023-04-29T00:48:55.129527Z",
     "iopub.status.idle": "2023-04-29T00:48:55.139836Z",
     "shell.execute_reply": "2023-04-29T00:48:55.138625Z"
    },
    "papermill": {
     "duration": 0.019002,
     "end_time": "2023-04-29T00:48:55.141859",
     "exception": false,
     "start_time": "2023-04-29T00:48:55.122857",
     "status": "completed"
    },
    "tags": []
   },
   "outputs": [
    {
     "data": {
      "text/plain": [
       "0    375806\n",
       "Name: prediction, dtype: int64"
      ]
     },
     "execution_count": 6,
     "metadata": {},
     "output_type": "execute_result"
    }
   ],
   "source": [
    "submissionDf.prediction.value_counts()"
   ]
  },
  {
   "cell_type": "code",
   "execution_count": 7,
   "id": "25361ba3",
   "metadata": {
    "execution": {
     "iopub.execute_input": "2023-04-29T00:48:55.155814Z",
     "iopub.status.busy": "2023-04-29T00:48:55.154360Z",
     "iopub.status.idle": "2023-04-29T00:48:55.161321Z",
     "shell.execute_reply": "2023-04-29T00:48:55.160267Z"
    },
    "papermill": {
     "duration": 0.015881,
     "end_time": "2023-04-29T00:48:55.163569",
     "exception": false,
     "start_time": "2023-04-29T00:48:55.147688",
     "status": "completed"
    },
    "tags": []
   },
   "outputs": [
    {
     "data": {
      "text/plain": [
       "'How did Quebec nationalists see their province as a nation in the 1960s?'"
      ]
     },
     "execution_count": 7,
     "metadata": {},
     "output_type": "execute_result"
    }
   ],
   "source": [
    "firstSentence = trainDf.question_text[0]\n",
    "firstSentence"
   ]
  },
  {
   "cell_type": "code",
   "execution_count": 8,
   "id": "f15ae6ca",
   "metadata": {
    "execution": {
     "iopub.execute_input": "2023-04-29T00:48:55.177350Z",
     "iopub.status.busy": "2023-04-29T00:48:55.177047Z",
     "iopub.status.idle": "2023-04-29T00:48:55.194504Z",
     "shell.execute_reply": "2023-04-29T00:48:55.193446Z"
    },
    "papermill": {
     "duration": 0.027366,
     "end_time": "2023-04-29T00:48:55.196762",
     "exception": false,
     "start_time": "2023-04-29T00:48:55.169396",
     "status": "completed"
    },
    "tags": []
   },
   "outputs": [
    {
     "data": {
      "text/plain": [
       "['How',\n",
       " 'did',\n",
       " 'Quebec',\n",
       " 'nationalists',\n",
       " 'see',\n",
       " 'their',\n",
       " 'province',\n",
       " 'as',\n",
       " 'a',\n",
       " 'nation',\n",
       " 'in',\n",
       " 'the',\n",
       " '1960s',\n",
       " '?']"
      ]
     },
     "execution_count": 8,
     "metadata": {},
     "output_type": "execute_result"
    }
   ],
   "source": [
    "firstToken = tokenizer(firstSentence)\n",
    "firstToken"
   ]
  },
  {
   "cell_type": "code",
   "execution_count": 9,
   "id": "a76e13e4",
   "metadata": {
    "execution": {
     "iopub.execute_input": "2023-04-29T00:48:55.210300Z",
     "iopub.status.busy": "2023-04-29T00:48:55.210019Z",
     "iopub.status.idle": "2023-04-29T00:48:55.215870Z",
     "shell.execute_reply": "2023-04-29T00:48:55.214898Z"
    },
    "papermill": {
     "duration": 0.014968,
     "end_time": "2023-04-29T00:48:55.217930",
     "exception": false,
     "start_time": "2023-04-29T00:48:55.202962",
     "status": "completed"
    },
    "tags": []
   },
   "outputs": [
    {
     "data": {
      "text/plain": [
       "\"i, me, my, myself, we, our, ours, ourselves, you, you're, you've, you'll, you'd, your, yours, yourself, yourselves, he, him, his, himself, she, she's, her, hers, herself, it, it's, its, itself, they, them, their, theirs, themselves, what, which, who, whom, this, that, that'll, these, those, am, is, are, was, were, be, been, being, have, has, had, having, do, does, did, doing, a, an, the, and, but, if, or, because, as, until, while, of, at, by, for, with, about, against, between, into, through, during, before, after, above, below, to, from, up, down, in, out, on, off, over, under, again, further, then, once, here, there, when, where, why, how, all, any, both, each, few, more, most, other, some, such, no, nor, not, only, own, same, so, than, too, very, s, t, can, will, just, don, don't, should, should've, now, d, ll, m, o, re, ve, y, ain, aren, aren't, couldn, couldn't, didn, didn't, doesn, doesn't, hadn, hadn't, hasn, hasn't, haven, haven't, isn, isn't, ma, mightn, mightn't, mustn, mustn't, needn, needn't, shan, shan't, shouldn, shouldn't, wasn, wasn't, weren, weren't, won, won't, wouldn, wouldn't\""
      ]
     },
     "execution_count": 9,
     "metadata": {},
     "output_type": "execute_result"
    }
   ],
   "source": [
    "\", \".join(englishStopWords)"
   ]
  },
  {
   "cell_type": "code",
   "execution_count": 10,
   "id": "bc5d01fb",
   "metadata": {
    "execution": {
     "iopub.execute_input": "2023-04-29T00:48:55.231818Z",
     "iopub.status.busy": "2023-04-29T00:48:55.231016Z",
     "iopub.status.idle": "2023-04-29T00:48:55.237857Z",
     "shell.execute_reply": "2023-04-29T00:48:55.236834Z"
    },
    "papermill": {
     "duration": 0.016258,
     "end_time": "2023-04-29T00:48:55.240331",
     "exception": false,
     "start_time": "2023-04-29T00:48:55.224073",
     "status": "completed"
    },
    "tags": []
   },
   "outputs": [
    {
     "data": {
      "text/plain": [
       "['Quebec', 'nationalists', 'see', 'province', 'nation', '1960s', '?']"
      ]
     },
     "execution_count": 10,
     "metadata": {},
     "output_type": "execute_result"
    }
   ],
   "source": [
    "firstNonStopWords = [word for word in firstToken if word.lower() not in englishStopWords]\n",
    "firstNonStopWords"
   ]
  },
  {
   "cell_type": "code",
   "execution_count": 11,
   "id": "f5212695",
   "metadata": {
    "execution": {
     "iopub.execute_input": "2023-04-29T00:48:55.253717Z",
     "iopub.status.busy": "2023-04-29T00:48:55.253427Z",
     "iopub.status.idle": "2023-04-29T00:48:55.260000Z",
     "shell.execute_reply": "2023-04-29T00:48:55.259038Z"
    },
    "papermill": {
     "duration": 0.015578,
     "end_time": "2023-04-29T00:48:55.262006",
     "exception": false,
     "start_time": "2023-04-29T00:48:55.246428",
     "status": "completed"
    },
    "tags": []
   },
   "outputs": [
    {
     "data": {
      "text/plain": [
       "['quebec', 'nationalist', 'see', 'provinc', 'nation', '1960', '?']"
      ]
     },
     "execution_count": 11,
     "metadata": {},
     "output_type": "execute_result"
    }
   ],
   "source": [
    "firstStemmingWords = [stemmer.stem(word) for word in firstNonStopWords]\n",
    "firstStemmingWords"
   ]
  },
  {
   "cell_type": "code",
   "execution_count": 12,
   "id": "f1d8be1b",
   "metadata": {
    "execution": {
     "iopub.execute_input": "2023-04-29T00:48:55.276580Z",
     "iopub.status.busy": "2023-04-29T00:48:55.275814Z",
     "iopub.status.idle": "2023-04-29T00:48:55.283120Z",
     "shell.execute_reply": "2023-04-29T00:48:55.282066Z"
    },
    "papermill": {
     "duration": 0.017427,
     "end_time": "2023-04-29T00:48:55.285665",
     "exception": false,
     "start_time": "2023-04-29T00:48:55.268238",
     "status": "completed"
    },
    "tags": []
   },
   "outputs": [
    {
     "data": {
      "text/plain": [
       "['quebec', 'nationalist', 'see', 'provinc', 'nation', '1960', '?']"
      ]
     },
     "execution_count": 12,
     "metadata": {},
     "output_type": "execute_result"
    }
   ],
   "source": [
    "[stemmer.stem(word) for word in tokenizer(firstSentence) if word.lower() not in englishStopWords]"
   ]
  },
  {
   "cell_type": "code",
   "execution_count": 13,
   "id": "f8469b24",
   "metadata": {
    "execution": {
     "iopub.execute_input": "2023-04-29T00:48:55.299453Z",
     "iopub.status.busy": "2023-04-29T00:48:55.299186Z",
     "iopub.status.idle": "2023-04-29T00:48:55.303627Z",
     "shell.execute_reply": "2023-04-29T00:48:55.302671Z"
    },
    "papermill": {
     "duration": 0.013793,
     "end_time": "2023-04-29T00:48:55.305763",
     "exception": false,
     "start_time": "2023-04-29T00:48:55.291970",
     "status": "completed"
    },
    "tags": []
   },
   "outputs": [],
   "source": [
    "from sklearn.feature_extraction.text import CountVectorizer\n",
    "\n",
    "def tokenize(self, text):\n",
    "    return [stemmer.stem(word) for word in word_tokenize(text)]"
   ]
  },
  {
   "cell_type": "code",
   "execution_count": 14,
   "id": "85da6757",
   "metadata": {
    "execution": {
     "iopub.execute_input": "2023-04-29T00:48:55.319995Z",
     "iopub.status.busy": "2023-04-29T00:48:55.319536Z",
     "iopub.status.idle": "2023-04-29T00:48:55.324070Z",
     "shell.execute_reply": "2023-04-29T00:48:55.323089Z"
    },
    "papermill": {
     "duration": 0.014169,
     "end_time": "2023-04-29T00:48:55.326273",
     "exception": false,
     "start_time": "2023-04-29T00:48:55.312104",
     "status": "completed"
    },
    "tags": []
   },
   "outputs": [],
   "source": [
    "vectorizer = CountVectorizer(lowercase = True, tokenizer = tokenizer, stop_words = englishStopWords, max_features = 1000)"
   ]
  },
  {
   "cell_type": "code",
   "execution_count": 15,
   "id": "4b6f7bac",
   "metadata": {
    "execution": {
     "iopub.execute_input": "2023-04-29T00:48:55.339954Z",
     "iopub.status.busy": "2023-04-29T00:48:55.339694Z",
     "iopub.status.idle": "2023-04-29T00:48:55.343935Z",
     "shell.execute_reply": "2023-04-29T00:48:55.342885Z"
    },
    "papermill": {
     "duration": 0.01378,
     "end_time": "2023-04-29T00:48:55.346350",
     "exception": false,
     "start_time": "2023-04-29T00:48:55.332570",
     "status": "completed"
    },
    "tags": []
   },
   "outputs": [],
   "source": [
    "import warnings\n",
    "warnings.filterwarnings('ignore')"
   ]
  },
  {
   "cell_type": "code",
   "execution_count": 16,
   "id": "0683ff1d",
   "metadata": {
    "execution": {
     "iopub.execute_input": "2023-04-29T00:48:55.360177Z",
     "iopub.status.busy": "2023-04-29T00:48:55.359921Z",
     "iopub.status.idle": "2023-04-29T00:49:08.635291Z",
     "shell.execute_reply": "2023-04-29T00:49:08.634199Z"
    },
    "papermill": {
     "duration": 13.2845,
     "end_time": "2023-04-29T00:49:08.637359",
     "exception": false,
     "start_time": "2023-04-29T00:48:55.352859",
     "status": "completed"
    },
    "tags": []
   },
   "outputs": [
    {
     "name": "stdout",
     "output_type": "stream",
     "text": [
      "CPU times: user 13.2 s, sys: 36.4 ms, total: 13.2 s\n",
      "Wall time: 13.3 s\n"
     ]
    },
    {
     "data": {
      "text/plain": [
       "CountVectorizer(max_features=1000,\n",
       "                stop_words=['i', 'me', 'my', 'myself', 'we', 'our', 'ours',\n",
       "                            'ourselves', 'you', \"you're\", \"you've\", \"you'll\",\n",
       "                            \"you'd\", 'your', 'yours', 'yourself', 'yourselves',\n",
       "                            'he', 'him', 'his', 'himself', 'she', \"she's\",\n",
       "                            'her', 'hers', 'herself', 'it', \"it's\", 'its',\n",
       "                            'itself', ...],\n",
       "                tokenizer=<function word_tokenize at 0x76bc35c07ef0>)"
      ]
     },
     "execution_count": 16,
     "metadata": {},
     "output_type": "execute_result"
    }
   ],
   "source": [
    "%%time\n",
    "\n",
    "vectorizer.fit(trainDf.question_text)"
   ]
  },
  {
   "cell_type": "code",
   "execution_count": 17,
   "id": "1a747fd8",
   "metadata": {
    "execution": {
     "iopub.execute_input": "2023-04-29T00:49:08.652678Z",
     "iopub.status.busy": "2023-04-29T00:49:08.652029Z",
     "iopub.status.idle": "2023-04-29T00:49:08.661282Z",
     "shell.execute_reply": "2023-04-29T00:49:08.660395Z"
    },
    "papermill": {
     "duration": 0.019301,
     "end_time": "2023-04-29T00:49:08.663624",
     "exception": false,
     "start_time": "2023-04-29T00:49:08.644323",
     "status": "completed"
    },
    "tags": []
   },
   "outputs": [
    {
     "data": {
      "text/plain": [
       "<bound method CountVectorizer.get_feature_names_out of CountVectorizer(max_features=1000,\n",
       "                stop_words=['i', 'me', 'my', 'myself', 'we', 'our', 'ours',\n",
       "                            'ourselves', 'you', \"you're\", \"you've\", \"you'll\",\n",
       "                            \"you'd\", 'your', 'yours', 'yourself', 'yourselves',\n",
       "                            'he', 'him', 'his', 'himself', 'she', \"she's\",\n",
       "                            'her', 'hers', 'herself', 'it', \"it's\", 'its',\n",
       "                            'itself', ...],\n",
       "                tokenizer=<function word_tokenize at 0x76bc35c07ef0>)>"
      ]
     },
     "execution_count": 17,
     "metadata": {},
     "output_type": "execute_result"
    }
   ],
   "source": [
    "vectorizer.get_feature_names_out"
   ]
  },
  {
   "cell_type": "code",
   "execution_count": 18,
   "id": "31d60f8e",
   "metadata": {
    "execution": {
     "iopub.execute_input": "2023-04-29T00:49:08.677887Z",
     "iopub.status.busy": "2023-04-29T00:49:08.677623Z",
     "iopub.status.idle": "2023-04-29T00:49:22.227065Z",
     "shell.execute_reply": "2023-04-29T00:49:22.226015Z"
    },
    "papermill": {
     "duration": 13.5594,
     "end_time": "2023-04-29T00:49:22.229547",
     "exception": false,
     "start_time": "2023-04-29T00:49:08.670147",
     "status": "completed"
    },
    "tags": []
   },
   "outputs": [],
   "source": [
    "inputs = vectorizer.transform(trainDf.question_text)"
   ]
  },
  {
   "cell_type": "code",
   "execution_count": 19,
   "id": "ee682f4f",
   "metadata": {
    "execution": {
     "iopub.execute_input": "2023-04-29T00:49:22.244725Z",
     "iopub.status.busy": "2023-04-29T00:49:22.244391Z",
     "iopub.status.idle": "2023-04-29T00:49:22.250648Z",
     "shell.execute_reply": "2023-04-29T00:49:22.249537Z"
    },
    "papermill": {
     "duration": 0.017239,
     "end_time": "2023-04-29T00:49:22.253885",
     "exception": false,
     "start_time": "2023-04-29T00:49:22.236646",
     "status": "completed"
    },
    "tags": []
   },
   "outputs": [
    {
     "data": {
      "text/plain": [
       "(100000, 1000)"
      ]
     },
     "execution_count": 19,
     "metadata": {},
     "output_type": "execute_result"
    }
   ],
   "source": [
    "inputs.shape"
   ]
  },
  {
   "cell_type": "code",
   "execution_count": 20,
   "id": "e4c8f52c",
   "metadata": {
    "execution": {
     "iopub.execute_input": "2023-04-29T00:49:22.268272Z",
     "iopub.status.busy": "2023-04-29T00:49:22.267999Z",
     "iopub.status.idle": "2023-04-29T00:50:11.804987Z",
     "shell.execute_reply": "2023-04-29T00:50:11.802718Z"
    },
    "papermill": {
     "duration": 49.553014,
     "end_time": "2023-04-29T00:50:11.813492",
     "exception": false,
     "start_time": "2023-04-29T00:49:22.260478",
     "status": "completed"
    },
    "tags": []
   },
   "outputs": [
    {
     "data": {
      "text/plain": [
       "(375806, 1000)"
      ]
     },
     "execution_count": 20,
     "metadata": {},
     "output_type": "execute_result"
    }
   ],
   "source": [
    "test_inputs = vectorizer.transform(testDf.question_text)\n",
    "test_inputs.shape"
   ]
  },
  {
   "cell_type": "code",
   "execution_count": 21,
   "id": "4d678362",
   "metadata": {
    "execution": {
     "iopub.execute_input": "2023-04-29T00:50:11.842796Z",
     "iopub.status.busy": "2023-04-29T00:50:11.842461Z",
     "iopub.status.idle": "2023-04-29T00:50:12.102262Z",
     "shell.execute_reply": "2023-04-29T00:50:12.101254Z"
    },
    "papermill": {
     "duration": 0.279152,
     "end_time": "2023-04-29T00:50:12.104991",
     "exception": false,
     "start_time": "2023-04-29T00:50:11.825839",
     "status": "completed"
    },
    "tags": []
   },
   "outputs": [],
   "source": [
    "from sklearn.linear_model import LogisticRegression\n",
    "from sklearn.ensemble import RandomForestClassifier\n",
    "from sklearn.metrics import accuracy_score, f1_score\n",
    "from sklearn.model_selection import train_test_split"
   ]
  },
  {
   "cell_type": "code",
   "execution_count": 22,
   "id": "c95114d4",
   "metadata": {
    "execution": {
     "iopub.execute_input": "2023-04-29T00:50:12.120753Z",
     "iopub.status.busy": "2023-04-29T00:50:12.120413Z",
     "iopub.status.idle": "2023-04-29T00:50:12.845959Z",
     "shell.execute_reply": "2023-04-29T00:50:12.844675Z"
    },
    "papermill": {
     "duration": 0.735875,
     "end_time": "2023-04-29T00:50:12.848232",
     "exception": false,
     "start_time": "2023-04-29T00:50:12.112357",
     "status": "completed"
    },
    "tags": []
   },
   "outputs": [
    {
     "name": "stdout",
     "output_type": "stream",
     "text": [
      "70000 30000 70000 30000\n"
     ]
    }
   ],
   "source": [
    "X_train, X_val, y_train, y_val = train_test_split(inputs.toarray(), trainDf.target, test_size = 0.3, random_state = 4)\n",
    "print(len(X_train), len(X_val), len(y_train), len(y_val))"
   ]
  },
  {
   "cell_type": "code",
   "execution_count": 23,
   "id": "251a5670",
   "metadata": {
    "execution": {
     "iopub.execute_input": "2023-04-29T00:50:12.863747Z",
     "iopub.status.busy": "2023-04-29T00:50:12.863426Z",
     "iopub.status.idle": "2023-04-29T00:50:39.193193Z",
     "shell.execute_reply": "2023-04-29T00:50:39.192132Z"
    },
    "papermill": {
     "duration": 26.341058,
     "end_time": "2023-04-29T00:50:39.196554",
     "exception": false,
     "start_time": "2023-04-29T00:50:12.855496",
     "status": "completed"
    },
    "tags": []
   },
   "outputs": [
    {
     "name": "stdout",
     "output_type": "stream",
     "text": [
      "Traning Accuracy: 0.9474714285714285\n",
      "Validation Accuracy: 0.9466\n",
      "Traning F1 Score: 0.3941341242379305\n",
      "Validation F1 Score: 0.3824209714726291\n"
     ]
    }
   ],
   "source": [
    "model = LogisticRegression(random_state=4, max_iter = 10000, solver = 'newton-cg')\n",
    "model.fit(X_train, y_train)\n",
    "train_preds = model.predict(X_train)\n",
    "val_preds = model.predict(X_val)\n",
    "print(f\"Traning Accuracy: {accuracy_score(train_preds, y_train)}\")\n",
    "print(f\"Validation Accuracy: {accuracy_score(val_preds, y_val)}\")\n",
    "print(f\"Traning F1 Score: {f1_score(train_preds, y_train)}\")\n",
    "print(f\"Validation F1 Score: {f1_score(val_preds, y_val)}\")"
   ]
  },
  {
   "cell_type": "code",
   "execution_count": 24,
   "id": "08220b81",
   "metadata": {
    "execution": {
     "iopub.execute_input": "2023-04-29T00:50:39.236812Z",
     "iopub.status.busy": "2023-04-29T00:50:39.236210Z",
     "iopub.status.idle": "2023-04-29T00:50:39.261435Z",
     "shell.execute_reply": "2023-04-29T00:50:39.260092Z"
    },
    "papermill": {
     "duration": 0.049487,
     "end_time": "2023-04-29T00:50:39.264869",
     "exception": false,
     "start_time": "2023-04-29T00:50:39.215382",
     "status": "completed"
    },
    "tags": []
   },
   "outputs": [],
   "source": [
    "test_preds = model.predict(test_inputs)"
   ]
  },
  {
   "cell_type": "code",
   "execution_count": 25,
   "id": "12fbc269",
   "metadata": {
    "execution": {
     "iopub.execute_input": "2023-04-29T00:50:39.281560Z",
     "iopub.status.busy": "2023-04-29T00:50:39.280696Z",
     "iopub.status.idle": "2023-04-29T00:50:39.291689Z",
     "shell.execute_reply": "2023-04-29T00:50:39.290949Z"
    },
    "papermill": {
     "duration": 0.020734,
     "end_time": "2023-04-29T00:50:39.293582",
     "exception": false,
     "start_time": "2023-04-29T00:50:39.272848",
     "status": "completed"
    },
    "tags": []
   },
   "outputs": [
    {
     "data": {
      "text/plain": [
       "0    366278\n",
       "1      9528\n",
       "Name: prediction, dtype: int64"
      ]
     },
     "execution_count": 25,
     "metadata": {},
     "output_type": "execute_result"
    }
   ],
   "source": [
    "submissionDf.prediction = test_preds\n",
    "submissionDf.prediction.value_counts()"
   ]
  },
  {
   "cell_type": "code",
   "execution_count": 26,
   "id": "ec000f23",
   "metadata": {
    "execution": {
     "iopub.execute_input": "2023-04-29T00:50:39.309406Z",
     "iopub.status.busy": "2023-04-29T00:50:39.309133Z",
     "iopub.status.idle": "2023-04-29T00:50:39.807099Z",
     "shell.execute_reply": "2023-04-29T00:50:39.806051Z"
    },
    "papermill": {
     "duration": 0.50871,
     "end_time": "2023-04-29T00:50:39.809477",
     "exception": false,
     "start_time": "2023-04-29T00:50:39.300767",
     "status": "completed"
    },
    "tags": []
   },
   "outputs": [],
   "source": [
    "submissionDf.to_csv('submission.csv')"
   ]
  },
  {
   "cell_type": "code",
   "execution_count": null,
   "id": "535357ee",
   "metadata": {
    "papermill": {
     "duration": 0.006817,
     "end_time": "2023-04-29T00:50:39.823688",
     "exception": false,
     "start_time": "2023-04-29T00:50:39.816871",
     "status": "completed"
    },
    "tags": []
   },
   "outputs": [],
   "source": []
  }
 ],
 "metadata": {
  "kernelspec": {
   "display_name": "Python 3",
   "language": "python",
   "name": "python3"
  },
  "language_info": {
   "codemirror_mode": {
    "name": "ipython",
    "version": 3
   },
   "file_extension": ".py",
   "mimetype": "text/x-python",
   "name": "python",
   "nbconvert_exporter": "python",
   "pygments_lexer": "ipython3",
   "version": "3.7.12"
  },
  "papermill": {
   "default_parameters": {},
   "duration": 158.352037,
   "end_time": "2023-04-29T00:50:40.651380",
   "environment_variables": {},
   "exception": null,
   "input_path": "__notebook__.ipynb",
   "output_path": "__notebook__.ipynb",
   "parameters": {},
   "start_time": "2023-04-29T00:48:02.299343",
   "version": "2.4.0"
  }
 },
 "nbformat": 4,
 "nbformat_minor": 5
}
