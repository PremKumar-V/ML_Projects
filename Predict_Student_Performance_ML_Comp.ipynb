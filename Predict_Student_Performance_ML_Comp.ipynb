{
  "nbformat": 4,
  "nbformat_minor": 0,
  "metadata": {
    "colab": {
      "provenance": [],
      "authorship_tag": "ABX9TyPeWOFsN9owXLHBTuCEzh5O",
      "include_colab_link": true
    },
    "kernelspec": {
      "name": "python3",
      "display_name": "Python 3"
    },
    "language_info": {
      "name": "python"
    },
    "gpuClass": "standard"
  },
  "cells": [
    {
      "cell_type": "markdown",
      "metadata": {
        "id": "view-in-github",
        "colab_type": "text"
      },
      "source": [
        "<a href=\"https://colab.research.google.com/github/PremKumar-V/ML_Projects/blob/main/Predict_Student_Performance_ML_Comp.ipynb\" target=\"_parent\"><img src=\"https://colab.research.google.com/assets/colab-badge.svg\" alt=\"Open In Colab\"/></a>"
      ]
    },
    {
      "cell_type": "markdown",
      "source": [
        "# Machine Learning Competition - Predict Student Performance from Game Play\n",
        "\n",
        "## Reference\n",
        "- [Dataset Link](https://www.kaggle.com/competitions/predict-student-performance-from-game-play/)\n",
        "\n",
        "## ToDo\n",
        "- [x] Prepare Notebook\n",
        "- [ ] Data Exploration\n",
        "- [ ] Data Preprocessing\n",
        "- [ ] Model Training\n",
        "- [ ] Hypertuning\n",
        "- [ ] Evaluation\n",
        "- [ ] Submission"
      ],
      "metadata": {
        "id": "O1vAfjDLKhUM"
      }
    },
    {
      "cell_type": "markdown",
      "source": [
        "### Prepare Notebook"
      ],
      "metadata": {
        "id": "f4e_U3FkLJbc"
      }
    },
    {
      "cell_type": "code",
      "execution_count": 5,
      "metadata": {
        "id": "efgbJ7BzHnE2"
      },
      "outputs": [],
      "source": [
        "# Download Libraries\n",
        "!pip install kaggle xgboost opendatasets --quiet"
      ]
    },
    {
      "cell_type": "code",
      "source": [
        "# Import Libraries\n",
        "\n",
        "import os\n",
        "import numpy as np\n",
        "import pandas as pd\n",
        "\n",
        "import matplotlib.pyplot as plt\n",
        "import seaborn as sns\n",
        "%matplotlib inline\n",
        "\n",
        "import opendatasets as od\n",
        "import warnings\n",
        "warnings.filterwarnings('ignore')"
      ],
      "metadata": {
        "id": "lKxNIZtLKf0v"
      },
      "execution_count": 6,
      "outputs": []
    },
    {
      "cell_type": "code",
      "source": [
        "# Download Dataset\n",
        "\n",
        "od.download('https://www.kaggle.com/competitions/predict-student-performance-from-game-play/data')"
      ],
      "metadata": {
        "colab": {
          "base_uri": "https://localhost:8080/"
        },
        "id": "N8jx20zPLt68",
        "outputId": "644e7ad2-88fd-4c32-8c10-0f45a64f43f8"
      },
      "execution_count": 7,
      "outputs": [
        {
          "output_type": "stream",
          "name": "stdout",
          "text": [
            "Downloading predict-student-performance-from-game-play.zip to ./predict-student-performance-from-game-play\n"
          ]
        },
        {
          "output_type": "stream",
          "name": "stderr",
          "text": [
            "100%|██████████| 484M/484M [00:03<00:00, 150MB/s]\n"
          ]
        },
        {
          "output_type": "stream",
          "name": "stdout",
          "text": [
            "\n",
            "Extracting archive ./predict-student-performance-from-game-play/predict-student-performance-from-game-play.zip to ./predict-student-performance-from-game-play\n"
          ]
        }
      ]
    },
    {
      "cell_type": "code",
      "source": [
        "# Inspecting Dataset\n",
        "\n",
        "dataDir = './predict-student-performance-from-game-play/'\n",
        "\n",
        "os.listdir(dataDir)"
      ],
      "metadata": {
        "colab": {
          "base_uri": "https://localhost:8080/"
        },
        "id": "jUx6BUoFMuh2",
        "outputId": "3e9970c3-e0e7-4c80-fd3a-0b33709df8f7"
      },
      "execution_count": 8,
      "outputs": [
        {
          "output_type": "execute_result",
          "data": {
            "text/plain": [
              "['test.csv',\n",
              " 'jo_wilder',\n",
              " 'train.csv',\n",
              " 'train_labels.csv',\n",
              " 'sample_submission.csv']"
            ]
          },
          "metadata": {},
          "execution_count": 8
        }
      ]
    },
    {
      "cell_type": "code",
      "source": [
        "# Load dataset\n",
        "\n",
        "trainDf = pd.read_csv(dataDir + 'train.csv')\n",
        "trainDf.head(2)"
      ],
      "metadata": {
        "colab": {
          "base_uri": "https://localhost:8080/",
          "height": 245
        },
        "id": "voBxEoN4NOnW",
        "outputId": "9a95f45f-bef0-49a9-b00d-9dfd800aa76b"
      },
      "execution_count": 9,
      "outputs": [
        {
          "output_type": "execute_result",
          "data": {
            "text/plain": [
              "          session_id  index  elapsed_time      event_name   name  level  page  \\\n",
              "0  20090312431273200      0             0  cutscene_click  basic      0   NaN   \n",
              "1  20090312431273200      1          1323    person_click  basic      0   NaN   \n",
              "\n",
              "   room_coor_x  room_coor_y  screen_coor_x  screen_coor_y  hover_duration  \\\n",
              "0  -413.991405  -159.314686          380.0          494.0             NaN   \n",
              "1  -413.991405  -159.314686          380.0          494.0             NaN   \n",
              "\n",
              "                            text    fqid                       room_fqid  \\\n",
              "0                      undefined   intro  tunic.historicalsociety.closet   \n",
              "1  Whatcha doing over there, Jo?  gramps  tunic.historicalsociety.closet   \n",
              "\n",
              "                                           text_fqid  fullscreen  hq  music  \\\n",
              "0               tunic.historicalsociety.closet.intro         NaN NaN    NaN   \n",
              "1  tunic.historicalsociety.closet.gramps.intro_0_...         NaN NaN    NaN   \n",
              "\n",
              "  level_group  \n",
              "0         0-4  \n",
              "1         0-4  "
            ],
            "text/html": [
              "\n",
              "  <div id=\"df-8b4450d8-3dd4-48de-9393-6148bff1b96c\">\n",
              "    <div class=\"colab-df-container\">\n",
              "      <div>\n",
              "<style scoped>\n",
              "    .dataframe tbody tr th:only-of-type {\n",
              "        vertical-align: middle;\n",
              "    }\n",
              "\n",
              "    .dataframe tbody tr th {\n",
              "        vertical-align: top;\n",
              "    }\n",
              "\n",
              "    .dataframe thead th {\n",
              "        text-align: right;\n",
              "    }\n",
              "</style>\n",
              "<table border=\"1\" class=\"dataframe\">\n",
              "  <thead>\n",
              "    <tr style=\"text-align: right;\">\n",
              "      <th></th>\n",
              "      <th>session_id</th>\n",
              "      <th>index</th>\n",
              "      <th>elapsed_time</th>\n",
              "      <th>event_name</th>\n",
              "      <th>name</th>\n",
              "      <th>level</th>\n",
              "      <th>page</th>\n",
              "      <th>room_coor_x</th>\n",
              "      <th>room_coor_y</th>\n",
              "      <th>screen_coor_x</th>\n",
              "      <th>screen_coor_y</th>\n",
              "      <th>hover_duration</th>\n",
              "      <th>text</th>\n",
              "      <th>fqid</th>\n",
              "      <th>room_fqid</th>\n",
              "      <th>text_fqid</th>\n",
              "      <th>fullscreen</th>\n",
              "      <th>hq</th>\n",
              "      <th>music</th>\n",
              "      <th>level_group</th>\n",
              "    </tr>\n",
              "  </thead>\n",
              "  <tbody>\n",
              "    <tr>\n",
              "      <th>0</th>\n",
              "      <td>20090312431273200</td>\n",
              "      <td>0</td>\n",
              "      <td>0</td>\n",
              "      <td>cutscene_click</td>\n",
              "      <td>basic</td>\n",
              "      <td>0</td>\n",
              "      <td>NaN</td>\n",
              "      <td>-413.991405</td>\n",
              "      <td>-159.314686</td>\n",
              "      <td>380.0</td>\n",
              "      <td>494.0</td>\n",
              "      <td>NaN</td>\n",
              "      <td>undefined</td>\n",
              "      <td>intro</td>\n",
              "      <td>tunic.historicalsociety.closet</td>\n",
              "      <td>tunic.historicalsociety.closet.intro</td>\n",
              "      <td>NaN</td>\n",
              "      <td>NaN</td>\n",
              "      <td>NaN</td>\n",
              "      <td>0-4</td>\n",
              "    </tr>\n",
              "    <tr>\n",
              "      <th>1</th>\n",
              "      <td>20090312431273200</td>\n",
              "      <td>1</td>\n",
              "      <td>1323</td>\n",
              "      <td>person_click</td>\n",
              "      <td>basic</td>\n",
              "      <td>0</td>\n",
              "      <td>NaN</td>\n",
              "      <td>-413.991405</td>\n",
              "      <td>-159.314686</td>\n",
              "      <td>380.0</td>\n",
              "      <td>494.0</td>\n",
              "      <td>NaN</td>\n",
              "      <td>Whatcha doing over there, Jo?</td>\n",
              "      <td>gramps</td>\n",
              "      <td>tunic.historicalsociety.closet</td>\n",
              "      <td>tunic.historicalsociety.closet.gramps.intro_0_...</td>\n",
              "      <td>NaN</td>\n",
              "      <td>NaN</td>\n",
              "      <td>NaN</td>\n",
              "      <td>0-4</td>\n",
              "    </tr>\n",
              "  </tbody>\n",
              "</table>\n",
              "</div>\n",
              "      <button class=\"colab-df-convert\" onclick=\"convertToInteractive('df-8b4450d8-3dd4-48de-9393-6148bff1b96c')\"\n",
              "              title=\"Convert this dataframe to an interactive table.\"\n",
              "              style=\"display:none;\">\n",
              "        \n",
              "  <svg xmlns=\"http://www.w3.org/2000/svg\" height=\"24px\"viewBox=\"0 0 24 24\"\n",
              "       width=\"24px\">\n",
              "    <path d=\"M0 0h24v24H0V0z\" fill=\"none\"/>\n",
              "    <path d=\"M18.56 5.44l.94 2.06.94-2.06 2.06-.94-2.06-.94-.94-2.06-.94 2.06-2.06.94zm-11 1L8.5 8.5l.94-2.06 2.06-.94-2.06-.94L8.5 2.5l-.94 2.06-2.06.94zm10 10l.94 2.06.94-2.06 2.06-.94-2.06-.94-.94-2.06-.94 2.06-2.06.94z\"/><path d=\"M17.41 7.96l-1.37-1.37c-.4-.4-.92-.59-1.43-.59-.52 0-1.04.2-1.43.59L10.3 9.45l-7.72 7.72c-.78.78-.78 2.05 0 2.83L4 21.41c.39.39.9.59 1.41.59.51 0 1.02-.2 1.41-.59l7.78-7.78 2.81-2.81c.8-.78.8-2.07 0-2.86zM5.41 20L4 18.59l7.72-7.72 1.47 1.35L5.41 20z\"/>\n",
              "  </svg>\n",
              "      </button>\n",
              "      \n",
              "  <style>\n",
              "    .colab-df-container {\n",
              "      display:flex;\n",
              "      flex-wrap:wrap;\n",
              "      gap: 12px;\n",
              "    }\n",
              "\n",
              "    .colab-df-convert {\n",
              "      background-color: #E8F0FE;\n",
              "      border: none;\n",
              "      border-radius: 50%;\n",
              "      cursor: pointer;\n",
              "      display: none;\n",
              "      fill: #1967D2;\n",
              "      height: 32px;\n",
              "      padding: 0 0 0 0;\n",
              "      width: 32px;\n",
              "    }\n",
              "\n",
              "    .colab-df-convert:hover {\n",
              "      background-color: #E2EBFA;\n",
              "      box-shadow: 0px 1px 2px rgba(60, 64, 67, 0.3), 0px 1px 3px 1px rgba(60, 64, 67, 0.15);\n",
              "      fill: #174EA6;\n",
              "    }\n",
              "\n",
              "    [theme=dark] .colab-df-convert {\n",
              "      background-color: #3B4455;\n",
              "      fill: #D2E3FC;\n",
              "    }\n",
              "\n",
              "    [theme=dark] .colab-df-convert:hover {\n",
              "      background-color: #434B5C;\n",
              "      box-shadow: 0px 1px 3px 1px rgba(0, 0, 0, 0.15);\n",
              "      filter: drop-shadow(0px 1px 2px rgba(0, 0, 0, 0.3));\n",
              "      fill: #FFFFFF;\n",
              "    }\n",
              "  </style>\n",
              "\n",
              "      <script>\n",
              "        const buttonEl =\n",
              "          document.querySelector('#df-8b4450d8-3dd4-48de-9393-6148bff1b96c button.colab-df-convert');\n",
              "        buttonEl.style.display =\n",
              "          google.colab.kernel.accessAllowed ? 'block' : 'none';\n",
              "\n",
              "        async function convertToInteractive(key) {\n",
              "          const element = document.querySelector('#df-8b4450d8-3dd4-48de-9393-6148bff1b96c');\n",
              "          const dataTable =\n",
              "            await google.colab.kernel.invokeFunction('convertToInteractive',\n",
              "                                                     [key], {});\n",
              "          if (!dataTable) return;\n",
              "\n",
              "          const docLinkHtml = 'Like what you see? Visit the ' +\n",
              "            '<a target=\"_blank\" href=https://colab.research.google.com/notebooks/data_table.ipynb>data table notebook</a>'\n",
              "            + ' to learn more about interactive tables.';\n",
              "          element.innerHTML = '';\n",
              "          dataTable['output_type'] = 'display_data';\n",
              "          await google.colab.output.renderOutput(dataTable, element);\n",
              "          const docLink = document.createElement('div');\n",
              "          docLink.innerHTML = docLinkHtml;\n",
              "          element.appendChild(docLink);\n",
              "        }\n",
              "      </script>\n",
              "    </div>\n",
              "  </div>\n",
              "  "
            ]
          },
          "metadata": {},
          "execution_count": 9
        }
      ]
    },
    {
      "cell_type": "code",
      "source": [
        "trainLabels = pd.read_csv(dataDir + 'train_labels.csv')"
      ],
      "metadata": {
        "id": "YF17PtmNOR5l"
      },
      "execution_count": 10,
      "outputs": []
    },
    {
      "cell_type": "code",
      "source": [
        "testDf = pd.read_csv(dataDir + 'test.csv')"
      ],
      "metadata": {
        "id": "wNS63sZ6OVip"
      },
      "execution_count": 11,
      "outputs": []
    },
    {
      "cell_type": "markdown",
      "source": [
        "### Data Exploration"
      ],
      "metadata": {
        "id": "-XsX0HUOOm_f"
      }
    },
    {
      "cell_type": "code",
      "source": [
        "trainDf.describe()"
      ],
      "metadata": {
        "colab": {
          "base_uri": "https://localhost:8080/",
          "height": 364
        },
        "id": "pIiai5syOZ7Y",
        "outputId": "8c5ba4a4-a7ef-41ad-a6e7-f18a255ebbc8"
      },
      "execution_count": 12,
      "outputs": [
        {
          "output_type": "execute_result",
          "data": {
            "text/plain": [
              "         session_id         index  elapsed_time         level           page  \\\n",
              "count  1.317421e+07  1.317421e+07  1.317421e+07  1.317421e+07  284746.000000   \n",
              "mean   2.113413e+16  6.526426e+02  3.846817e+06  1.219194e+01       3.157930   \n",
              "std    5.665220e+14  6.275818e+02  2.701387e+07  6.499188e+00       2.064042   \n",
              "min    2.009031e+16  0.000000e+00  0.000000e+00  0.000000e+00       0.000000   \n",
              "25%    2.101031e+16  2.890000e+02  4.394300e+05  6.000000e+00       1.000000   \n",
              "50%    2.104022e+16  5.960000e+02  1.013425e+06  1.300000e+01       3.000000   \n",
              "75%    2.110051e+16  8.970000e+02  1.740050e+06  1.800000e+01       5.000000   \n",
              "max    2.210022e+16  2.047300e+04  1.749293e+09  2.200000e+01       6.000000   \n",
              "\n",
              "        room_coor_x   room_coor_y  screen_coor_x  screen_coor_y  \\\n",
              "count  1.213797e+07  1.213797e+07   1.213797e+07   1.213797e+07   \n",
              "mean  -5.493615e+01 -1.162997e+02   4.581144e+02   3.852363e+02   \n",
              "std    5.201468e+02  2.185912e+02   2.472144e+02   1.292879e+02   \n",
              "min   -1.992355e+03 -9.181587e+02   0.000000e+00   0.000000e+00   \n",
              "25%   -3.529376e+02 -2.128361e+02   2.690000e+02   3.040000e+02   \n",
              "50%   -1.116317e+01 -9.778151e+01   4.470000e+02   3.970000e+02   \n",
              "75%    2.963618e+02  2.268531e+01   6.630000e+02   4.710000e+02   \n",
              "max    1.261774e+03  5.436164e+02   1.916000e+03   1.439000e+03   \n",
              "\n",
              "       hover_duration  fullscreen   hq  music  \n",
              "count    1.000737e+06         0.0  0.0    0.0  \n",
              "mean     3.186237e+03         NaN  NaN    NaN  \n",
              "std      3.692265e+05         NaN  NaN    NaN  \n",
              "min      0.000000e+00         NaN  NaN    NaN  \n",
              "25%      1.000000e+02         NaN  NaN    NaN  \n",
              "50%      4.180000e+02         NaN  NaN    NaN  \n",
              "75%      1.266000e+03         NaN  NaN    NaN  \n",
              "max      2.199078e+08         NaN  NaN    NaN  "
            ],
            "text/html": [
              "\n",
              "  <div id=\"df-dea5d928-0725-4d7f-a775-ed29793d20a5\">\n",
              "    <div class=\"colab-df-container\">\n",
              "      <div>\n",
              "<style scoped>\n",
              "    .dataframe tbody tr th:only-of-type {\n",
              "        vertical-align: middle;\n",
              "    }\n",
              "\n",
              "    .dataframe tbody tr th {\n",
              "        vertical-align: top;\n",
              "    }\n",
              "\n",
              "    .dataframe thead th {\n",
              "        text-align: right;\n",
              "    }\n",
              "</style>\n",
              "<table border=\"1\" class=\"dataframe\">\n",
              "  <thead>\n",
              "    <tr style=\"text-align: right;\">\n",
              "      <th></th>\n",
              "      <th>session_id</th>\n",
              "      <th>index</th>\n",
              "      <th>elapsed_time</th>\n",
              "      <th>level</th>\n",
              "      <th>page</th>\n",
              "      <th>room_coor_x</th>\n",
              "      <th>room_coor_y</th>\n",
              "      <th>screen_coor_x</th>\n",
              "      <th>screen_coor_y</th>\n",
              "      <th>hover_duration</th>\n",
              "      <th>fullscreen</th>\n",
              "      <th>hq</th>\n",
              "      <th>music</th>\n",
              "    </tr>\n",
              "  </thead>\n",
              "  <tbody>\n",
              "    <tr>\n",
              "      <th>count</th>\n",
              "      <td>1.317421e+07</td>\n",
              "      <td>1.317421e+07</td>\n",
              "      <td>1.317421e+07</td>\n",
              "      <td>1.317421e+07</td>\n",
              "      <td>284746.000000</td>\n",
              "      <td>1.213797e+07</td>\n",
              "      <td>1.213797e+07</td>\n",
              "      <td>1.213797e+07</td>\n",
              "      <td>1.213797e+07</td>\n",
              "      <td>1.000737e+06</td>\n",
              "      <td>0.0</td>\n",
              "      <td>0.0</td>\n",
              "      <td>0.0</td>\n",
              "    </tr>\n",
              "    <tr>\n",
              "      <th>mean</th>\n",
              "      <td>2.113413e+16</td>\n",
              "      <td>6.526426e+02</td>\n",
              "      <td>3.846817e+06</td>\n",
              "      <td>1.219194e+01</td>\n",
              "      <td>3.157930</td>\n",
              "      <td>-5.493615e+01</td>\n",
              "      <td>-1.162997e+02</td>\n",
              "      <td>4.581144e+02</td>\n",
              "      <td>3.852363e+02</td>\n",
              "      <td>3.186237e+03</td>\n",
              "      <td>NaN</td>\n",
              "      <td>NaN</td>\n",
              "      <td>NaN</td>\n",
              "    </tr>\n",
              "    <tr>\n",
              "      <th>std</th>\n",
              "      <td>5.665220e+14</td>\n",
              "      <td>6.275818e+02</td>\n",
              "      <td>2.701387e+07</td>\n",
              "      <td>6.499188e+00</td>\n",
              "      <td>2.064042</td>\n",
              "      <td>5.201468e+02</td>\n",
              "      <td>2.185912e+02</td>\n",
              "      <td>2.472144e+02</td>\n",
              "      <td>1.292879e+02</td>\n",
              "      <td>3.692265e+05</td>\n",
              "      <td>NaN</td>\n",
              "      <td>NaN</td>\n",
              "      <td>NaN</td>\n",
              "    </tr>\n",
              "    <tr>\n",
              "      <th>min</th>\n",
              "      <td>2.009031e+16</td>\n",
              "      <td>0.000000e+00</td>\n",
              "      <td>0.000000e+00</td>\n",
              "      <td>0.000000e+00</td>\n",
              "      <td>0.000000</td>\n",
              "      <td>-1.992355e+03</td>\n",
              "      <td>-9.181587e+02</td>\n",
              "      <td>0.000000e+00</td>\n",
              "      <td>0.000000e+00</td>\n",
              "      <td>0.000000e+00</td>\n",
              "      <td>NaN</td>\n",
              "      <td>NaN</td>\n",
              "      <td>NaN</td>\n",
              "    </tr>\n",
              "    <tr>\n",
              "      <th>25%</th>\n",
              "      <td>2.101031e+16</td>\n",
              "      <td>2.890000e+02</td>\n",
              "      <td>4.394300e+05</td>\n",
              "      <td>6.000000e+00</td>\n",
              "      <td>1.000000</td>\n",
              "      <td>-3.529376e+02</td>\n",
              "      <td>-2.128361e+02</td>\n",
              "      <td>2.690000e+02</td>\n",
              "      <td>3.040000e+02</td>\n",
              "      <td>1.000000e+02</td>\n",
              "      <td>NaN</td>\n",
              "      <td>NaN</td>\n",
              "      <td>NaN</td>\n",
              "    </tr>\n",
              "    <tr>\n",
              "      <th>50%</th>\n",
              "      <td>2.104022e+16</td>\n",
              "      <td>5.960000e+02</td>\n",
              "      <td>1.013425e+06</td>\n",
              "      <td>1.300000e+01</td>\n",
              "      <td>3.000000</td>\n",
              "      <td>-1.116317e+01</td>\n",
              "      <td>-9.778151e+01</td>\n",
              "      <td>4.470000e+02</td>\n",
              "      <td>3.970000e+02</td>\n",
              "      <td>4.180000e+02</td>\n",
              "      <td>NaN</td>\n",
              "      <td>NaN</td>\n",
              "      <td>NaN</td>\n",
              "    </tr>\n",
              "    <tr>\n",
              "      <th>75%</th>\n",
              "      <td>2.110051e+16</td>\n",
              "      <td>8.970000e+02</td>\n",
              "      <td>1.740050e+06</td>\n",
              "      <td>1.800000e+01</td>\n",
              "      <td>5.000000</td>\n",
              "      <td>2.963618e+02</td>\n",
              "      <td>2.268531e+01</td>\n",
              "      <td>6.630000e+02</td>\n",
              "      <td>4.710000e+02</td>\n",
              "      <td>1.266000e+03</td>\n",
              "      <td>NaN</td>\n",
              "      <td>NaN</td>\n",
              "      <td>NaN</td>\n",
              "    </tr>\n",
              "    <tr>\n",
              "      <th>max</th>\n",
              "      <td>2.210022e+16</td>\n",
              "      <td>2.047300e+04</td>\n",
              "      <td>1.749293e+09</td>\n",
              "      <td>2.200000e+01</td>\n",
              "      <td>6.000000</td>\n",
              "      <td>1.261774e+03</td>\n",
              "      <td>5.436164e+02</td>\n",
              "      <td>1.916000e+03</td>\n",
              "      <td>1.439000e+03</td>\n",
              "      <td>2.199078e+08</td>\n",
              "      <td>NaN</td>\n",
              "      <td>NaN</td>\n",
              "      <td>NaN</td>\n",
              "    </tr>\n",
              "  </tbody>\n",
              "</table>\n",
              "</div>\n",
              "      <button class=\"colab-df-convert\" onclick=\"convertToInteractive('df-dea5d928-0725-4d7f-a775-ed29793d20a5')\"\n",
              "              title=\"Convert this dataframe to an interactive table.\"\n",
              "              style=\"display:none;\">\n",
              "        \n",
              "  <svg xmlns=\"http://www.w3.org/2000/svg\" height=\"24px\"viewBox=\"0 0 24 24\"\n",
              "       width=\"24px\">\n",
              "    <path d=\"M0 0h24v24H0V0z\" fill=\"none\"/>\n",
              "    <path d=\"M18.56 5.44l.94 2.06.94-2.06 2.06-.94-2.06-.94-.94-2.06-.94 2.06-2.06.94zm-11 1L8.5 8.5l.94-2.06 2.06-.94-2.06-.94L8.5 2.5l-.94 2.06-2.06.94zm10 10l.94 2.06.94-2.06 2.06-.94-2.06-.94-.94-2.06-.94 2.06-2.06.94z\"/><path d=\"M17.41 7.96l-1.37-1.37c-.4-.4-.92-.59-1.43-.59-.52 0-1.04.2-1.43.59L10.3 9.45l-7.72 7.72c-.78.78-.78 2.05 0 2.83L4 21.41c.39.39.9.59 1.41.59.51 0 1.02-.2 1.41-.59l7.78-7.78 2.81-2.81c.8-.78.8-2.07 0-2.86zM5.41 20L4 18.59l7.72-7.72 1.47 1.35L5.41 20z\"/>\n",
              "  </svg>\n",
              "      </button>\n",
              "      \n",
              "  <style>\n",
              "    .colab-df-container {\n",
              "      display:flex;\n",
              "      flex-wrap:wrap;\n",
              "      gap: 12px;\n",
              "    }\n",
              "\n",
              "    .colab-df-convert {\n",
              "      background-color: #E8F0FE;\n",
              "      border: none;\n",
              "      border-radius: 50%;\n",
              "      cursor: pointer;\n",
              "      display: none;\n",
              "      fill: #1967D2;\n",
              "      height: 32px;\n",
              "      padding: 0 0 0 0;\n",
              "      width: 32px;\n",
              "    }\n",
              "\n",
              "    .colab-df-convert:hover {\n",
              "      background-color: #E2EBFA;\n",
              "      box-shadow: 0px 1px 2px rgba(60, 64, 67, 0.3), 0px 1px 3px 1px rgba(60, 64, 67, 0.15);\n",
              "      fill: #174EA6;\n",
              "    }\n",
              "\n",
              "    [theme=dark] .colab-df-convert {\n",
              "      background-color: #3B4455;\n",
              "      fill: #D2E3FC;\n",
              "    }\n",
              "\n",
              "    [theme=dark] .colab-df-convert:hover {\n",
              "      background-color: #434B5C;\n",
              "      box-shadow: 0px 1px 3px 1px rgba(0, 0, 0, 0.15);\n",
              "      filter: drop-shadow(0px 1px 2px rgba(0, 0, 0, 0.3));\n",
              "      fill: #FFFFFF;\n",
              "    }\n",
              "  </style>\n",
              "\n",
              "      <script>\n",
              "        const buttonEl =\n",
              "          document.querySelector('#df-dea5d928-0725-4d7f-a775-ed29793d20a5 button.colab-df-convert');\n",
              "        buttonEl.style.display =\n",
              "          google.colab.kernel.accessAllowed ? 'block' : 'none';\n",
              "\n",
              "        async function convertToInteractive(key) {\n",
              "          const element = document.querySelector('#df-dea5d928-0725-4d7f-a775-ed29793d20a5');\n",
              "          const dataTable =\n",
              "            await google.colab.kernel.invokeFunction('convertToInteractive',\n",
              "                                                     [key], {});\n",
              "          if (!dataTable) return;\n",
              "\n",
              "          const docLinkHtml = 'Like what you see? Visit the ' +\n",
              "            '<a target=\"_blank\" href=https://colab.research.google.com/notebooks/data_table.ipynb>data table notebook</a>'\n",
              "            + ' to learn more about interactive tables.';\n",
              "          element.innerHTML = '';\n",
              "          dataTable['output_type'] = 'display_data';\n",
              "          await google.colab.output.renderOutput(dataTable, element);\n",
              "          const docLink = document.createElement('div');\n",
              "          docLink.innerHTML = docLinkHtml;\n",
              "          element.appendChild(docLink);\n",
              "        }\n",
              "      </script>\n",
              "    </div>\n",
              "  </div>\n",
              "  "
            ]
          },
          "metadata": {},
          "execution_count": 12
        }
      ]
    },
    {
      "cell_type": "code",
      "source": [
        "trainDf.info()"
      ],
      "metadata": {
        "colab": {
          "base_uri": "https://localhost:8080/"
        },
        "id": "RwDcOIgAO0O-",
        "outputId": "35126a75-e169-4ecd-b4a4-36ba5f69f337"
      },
      "execution_count": 13,
      "outputs": [
        {
          "output_type": "stream",
          "name": "stdout",
          "text": [
            "<class 'pandas.core.frame.DataFrame'>\n",
            "RangeIndex: 13174211 entries, 0 to 13174210\n",
            "Data columns (total 20 columns):\n",
            " #   Column          Dtype  \n",
            "---  ------          -----  \n",
            " 0   session_id      int64  \n",
            " 1   index           int64  \n",
            " 2   elapsed_time    int64  \n",
            " 3   event_name      object \n",
            " 4   name            object \n",
            " 5   level           int64  \n",
            " 6   page            float64\n",
            " 7   room_coor_x     float64\n",
            " 8   room_coor_y     float64\n",
            " 9   screen_coor_x   float64\n",
            " 10  screen_coor_y   float64\n",
            " 11  hover_duration  float64\n",
            " 12  text            object \n",
            " 13  fqid            object \n",
            " 14  room_fqid       object \n",
            " 15  text_fqid       object \n",
            " 16  fullscreen      float64\n",
            " 17  hq              float64\n",
            " 18  music           float64\n",
            " 19  level_group     object \n",
            "dtypes: float64(9), int64(4), object(7)\n",
            "memory usage: 2.0+ GB\n"
          ]
        }
      ]
    },
    {
      "cell_type": "code",
      "source": [
        "nullDf = pd.DataFrame((trainDf.isna().sum() / len(trainDf)) * 100)\n",
        "nullDf"
      ],
      "metadata": {
        "colab": {
          "base_uri": "https://localhost:8080/",
          "height": 457
        },
        "id": "IOPucwx9PYji",
        "outputId": "47aa1ed1-173d-4d81-93c1-c5a5092f909a"
      },
      "execution_count": 35,
      "outputs": [
        {
          "output_type": "execute_result",
          "data": {
            "text/plain": [
              "                       0\n",
              "session_id      0.000000\n",
              "index           0.000000\n",
              "elapsed_time    0.000000\n",
              "event_name      0.000000\n",
              "name            0.000000\n",
              "level           0.000000\n",
              "room_coor_x     7.865670\n",
              "room_coor_y     7.865670\n",
              "screen_coor_x   7.865670\n",
              "screen_coor_y   7.865670\n",
              "fqid           31.574172\n",
              "room_fqid       0.000000\n",
              "level_group     0.000000"
            ],
            "text/html": [
              "\n",
              "  <div id=\"df-4cd04115-8838-4999-b279-1e818028d4fb\">\n",
              "    <div class=\"colab-df-container\">\n",
              "      <div>\n",
              "<style scoped>\n",
              "    .dataframe tbody tr th:only-of-type {\n",
              "        vertical-align: middle;\n",
              "    }\n",
              "\n",
              "    .dataframe tbody tr th {\n",
              "        vertical-align: top;\n",
              "    }\n",
              "\n",
              "    .dataframe thead th {\n",
              "        text-align: right;\n",
              "    }\n",
              "</style>\n",
              "<table border=\"1\" class=\"dataframe\">\n",
              "  <thead>\n",
              "    <tr style=\"text-align: right;\">\n",
              "      <th></th>\n",
              "      <th>0</th>\n",
              "    </tr>\n",
              "  </thead>\n",
              "  <tbody>\n",
              "    <tr>\n",
              "      <th>session_id</th>\n",
              "      <td>0.000000</td>\n",
              "    </tr>\n",
              "    <tr>\n",
              "      <th>index</th>\n",
              "      <td>0.000000</td>\n",
              "    </tr>\n",
              "    <tr>\n",
              "      <th>elapsed_time</th>\n",
              "      <td>0.000000</td>\n",
              "    </tr>\n",
              "    <tr>\n",
              "      <th>event_name</th>\n",
              "      <td>0.000000</td>\n",
              "    </tr>\n",
              "    <tr>\n",
              "      <th>name</th>\n",
              "      <td>0.000000</td>\n",
              "    </tr>\n",
              "    <tr>\n",
              "      <th>level</th>\n",
              "      <td>0.000000</td>\n",
              "    </tr>\n",
              "    <tr>\n",
              "      <th>room_coor_x</th>\n",
              "      <td>7.865670</td>\n",
              "    </tr>\n",
              "    <tr>\n",
              "      <th>room_coor_y</th>\n",
              "      <td>7.865670</td>\n",
              "    </tr>\n",
              "    <tr>\n",
              "      <th>screen_coor_x</th>\n",
              "      <td>7.865670</td>\n",
              "    </tr>\n",
              "    <tr>\n",
              "      <th>screen_coor_y</th>\n",
              "      <td>7.865670</td>\n",
              "    </tr>\n",
              "    <tr>\n",
              "      <th>fqid</th>\n",
              "      <td>31.574172</td>\n",
              "    </tr>\n",
              "    <tr>\n",
              "      <th>room_fqid</th>\n",
              "      <td>0.000000</td>\n",
              "    </tr>\n",
              "    <tr>\n",
              "      <th>level_group</th>\n",
              "      <td>0.000000</td>\n",
              "    </tr>\n",
              "  </tbody>\n",
              "</table>\n",
              "</div>\n",
              "      <button class=\"colab-df-convert\" onclick=\"convertToInteractive('df-4cd04115-8838-4999-b279-1e818028d4fb')\"\n",
              "              title=\"Convert this dataframe to an interactive table.\"\n",
              "              style=\"display:none;\">\n",
              "        \n",
              "  <svg xmlns=\"http://www.w3.org/2000/svg\" height=\"24px\"viewBox=\"0 0 24 24\"\n",
              "       width=\"24px\">\n",
              "    <path d=\"M0 0h24v24H0V0z\" fill=\"none\"/>\n",
              "    <path d=\"M18.56 5.44l.94 2.06.94-2.06 2.06-.94-2.06-.94-.94-2.06-.94 2.06-2.06.94zm-11 1L8.5 8.5l.94-2.06 2.06-.94-2.06-.94L8.5 2.5l-.94 2.06-2.06.94zm10 10l.94 2.06.94-2.06 2.06-.94-2.06-.94-.94-2.06-.94 2.06-2.06.94z\"/><path d=\"M17.41 7.96l-1.37-1.37c-.4-.4-.92-.59-1.43-.59-.52 0-1.04.2-1.43.59L10.3 9.45l-7.72 7.72c-.78.78-.78 2.05 0 2.83L4 21.41c.39.39.9.59 1.41.59.51 0 1.02-.2 1.41-.59l7.78-7.78 2.81-2.81c.8-.78.8-2.07 0-2.86zM5.41 20L4 18.59l7.72-7.72 1.47 1.35L5.41 20z\"/>\n",
              "  </svg>\n",
              "      </button>\n",
              "      \n",
              "  <style>\n",
              "    .colab-df-container {\n",
              "      display:flex;\n",
              "      flex-wrap:wrap;\n",
              "      gap: 12px;\n",
              "    }\n",
              "\n",
              "    .colab-df-convert {\n",
              "      background-color: #E8F0FE;\n",
              "      border: none;\n",
              "      border-radius: 50%;\n",
              "      cursor: pointer;\n",
              "      display: none;\n",
              "      fill: #1967D2;\n",
              "      height: 32px;\n",
              "      padding: 0 0 0 0;\n",
              "      width: 32px;\n",
              "    }\n",
              "\n",
              "    .colab-df-convert:hover {\n",
              "      background-color: #E2EBFA;\n",
              "      box-shadow: 0px 1px 2px rgba(60, 64, 67, 0.3), 0px 1px 3px 1px rgba(60, 64, 67, 0.15);\n",
              "      fill: #174EA6;\n",
              "    }\n",
              "\n",
              "    [theme=dark] .colab-df-convert {\n",
              "      background-color: #3B4455;\n",
              "      fill: #D2E3FC;\n",
              "    }\n",
              "\n",
              "    [theme=dark] .colab-df-convert:hover {\n",
              "      background-color: #434B5C;\n",
              "      box-shadow: 0px 1px 3px 1px rgba(0, 0, 0, 0.15);\n",
              "      filter: drop-shadow(0px 1px 2px rgba(0, 0, 0, 0.3));\n",
              "      fill: #FFFFFF;\n",
              "    }\n",
              "  </style>\n",
              "\n",
              "      <script>\n",
              "        const buttonEl =\n",
              "          document.querySelector('#df-4cd04115-8838-4999-b279-1e818028d4fb button.colab-df-convert');\n",
              "        buttonEl.style.display =\n",
              "          google.colab.kernel.accessAllowed ? 'block' : 'none';\n",
              "\n",
              "        async function convertToInteractive(key) {\n",
              "          const element = document.querySelector('#df-4cd04115-8838-4999-b279-1e818028d4fb');\n",
              "          const dataTable =\n",
              "            await google.colab.kernel.invokeFunction('convertToInteractive',\n",
              "                                                     [key], {});\n",
              "          if (!dataTable) return;\n",
              "\n",
              "          const docLinkHtml = 'Like what you see? Visit the ' +\n",
              "            '<a target=\"_blank\" href=https://colab.research.google.com/notebooks/data_table.ipynb>data table notebook</a>'\n",
              "            + ' to learn more about interactive tables.';\n",
              "          element.innerHTML = '';\n",
              "          dataTable['output_type'] = 'display_data';\n",
              "          await google.colab.output.renderOutput(dataTable, element);\n",
              "          const docLink = document.createElement('div');\n",
              "          docLink.innerHTML = docLinkHtml;\n",
              "          element.appendChild(docLink);\n",
              "        }\n",
              "      </script>\n",
              "    </div>\n",
              "  </div>\n",
              "  "
            ]
          },
          "metadata": {},
          "execution_count": 35
        }
      ]
    },
    {
      "cell_type": "code",
      "source": [
        "validList = list(nullDf[nullDf[0] < 50].T.columns)\n",
        "validList"
      ],
      "metadata": {
        "colab": {
          "base_uri": "https://localhost:8080/"
        },
        "id": "KcZaNNY-PdDR",
        "outputId": "1b1df75a-337c-4bac-9140-4e9c2679c44f"
      },
      "execution_count": 38,
      "outputs": [
        {
          "output_type": "execute_result",
          "data": {
            "text/plain": [
              "['session_id',\n",
              " 'index',\n",
              " 'elapsed_time',\n",
              " 'event_name',\n",
              " 'name',\n",
              " 'level',\n",
              " 'room_coor_x',\n",
              " 'room_coor_y',\n",
              " 'screen_coor_x',\n",
              " 'screen_coor_y',\n",
              " 'fqid',\n",
              " 'room_fqid',\n",
              " 'level_group']"
            ]
          },
          "metadata": {},
          "execution_count": 38
        }
      ]
    },
    {
      "cell_type": "code",
      "source": [
        "trainDf = trainDf[validList]\n",
        "len(trainDf)"
      ],
      "metadata": {
        "colab": {
          "base_uri": "https://localhost:8080/"
        },
        "id": "U-8LtwBmP_2A",
        "outputId": "6500ed88-ebd6-4012-98ff-ad6e6a142427"
      },
      "execution_count": 29,
      "outputs": [
        {
          "output_type": "execute_result",
          "data": {
            "text/plain": [
              "13174211"
            ]
          },
          "metadata": {},
          "execution_count": 29
        }
      ]
    },
    {
      "cell_type": "code",
      "source": [
        "originalPercent = 13174210\n",
        "cutOffPercent = len(trainDf)\n",
        "\n",
        "print(f\"Percentage Cut off: {(originalPercent / cutOffPercent) * 100}\")"
      ],
      "metadata": {
        "colab": {
          "base_uri": "https://localhost:8080/"
        },
        "id": "xj8CYlo1QbNo",
        "outputId": "44e92b90-ae67-45e4-eaac-509b41c4ffb2"
      },
      "execution_count": 33,
      "outputs": [
        {
          "output_type": "stream",
          "name": "stdout",
          "text": [
            "Percentage Cut off: 99.9999924094126\n"
          ]
        }
      ]
    },
    {
      "cell_type": "code",
      "source": [],
      "metadata": {
        "id": "swZSLU2MRkJ5"
      },
      "execution_count": null,
      "outputs": []
    }
  ]
}